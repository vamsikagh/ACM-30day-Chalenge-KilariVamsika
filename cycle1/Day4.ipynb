{
  "nbformat": 4,
  "nbformat_minor": 0,
  "metadata": {
    "colab": {
      "provenance": []
    },
    "kernelspec": {
      "name": "python3",
      "display_name": "Python 3"
    },
    "language_info": {
      "name": "python"
    }
  },
  "cells": [
    {
      "cell_type": "code",
      "execution_count": 2,
      "metadata": {
        "id": "JkMHFnLnxNWx"
      },
      "outputs": [],
      "source": [
        "import pandas as pd\n",
        "from sklearn.model_selection import train_test_split\n",
        "from sklearn.preprocessing import StandardScaler\n",
        "from sklearn.tree import DecisionTreeClassifier\n",
        "from sklearn.ensemble import RandomForestClassifier\n",
        "from sklearn.neighbors import KNeighborsClassifier\n",
        "from sklearn.feature_selection import mutual_info_classif\n",
        "from sklearn.metrics import accuracy_score"
      ]
    },
    {
      "cell_type": "code",
      "source": [
        "from google.colab import files\n",
        "uploaded = files.upload()\n",
        "df = pd.read_csv(\"cleaned_burnout_dataset.csv\")\n",
        "print(df.head())"
      ],
      "metadata": {
        "colab": {
          "base_uri": "https://localhost:8080/",
          "height": 698
        },
        "id": "0cNmbc0xxTF7",
        "outputId": "4b23cf0b-cfa5-41b9-9161-1cde7ca6fcc2"
      },
      "execution_count": 3,
      "outputs": [
        {
          "output_type": "display_data",
          "data": {
            "text/plain": [
              "<IPython.core.display.HTML object>"
            ],
            "text/html": [
              "\n",
              "     <input type=\"file\" id=\"files-584d4dbb-e948-49a2-b825-2fa33e651965\" name=\"files[]\" multiple disabled\n",
              "        style=\"border:none\" />\n",
              "     <output id=\"result-584d4dbb-e948-49a2-b825-2fa33e651965\">\n",
              "      Upload widget is only available when the cell has been executed in the\n",
              "      current browser session. Please rerun this cell to enable.\n",
              "      </output>\n",
              "      <script>// Copyright 2017 Google LLC\n",
              "//\n",
              "// Licensed under the Apache License, Version 2.0 (the \"License\");\n",
              "// you may not use this file except in compliance with the License.\n",
              "// You may obtain a copy of the License at\n",
              "//\n",
              "//      http://www.apache.org/licenses/LICENSE-2.0\n",
              "//\n",
              "// Unless required by applicable law or agreed to in writing, software\n",
              "// distributed under the License is distributed on an \"AS IS\" BASIS,\n",
              "// WITHOUT WARRANTIES OR CONDITIONS OF ANY KIND, either express or implied.\n",
              "// See the License for the specific language governing permissions and\n",
              "// limitations under the License.\n",
              "\n",
              "/**\n",
              " * @fileoverview Helpers for google.colab Python module.\n",
              " */\n",
              "(function(scope) {\n",
              "function span(text, styleAttributes = {}) {\n",
              "  const element = document.createElement('span');\n",
              "  element.textContent = text;\n",
              "  for (const key of Object.keys(styleAttributes)) {\n",
              "    element.style[key] = styleAttributes[key];\n",
              "  }\n",
              "  return element;\n",
              "}\n",
              "\n",
              "// Max number of bytes which will be uploaded at a time.\n",
              "const MAX_PAYLOAD_SIZE = 100 * 1024;\n",
              "\n",
              "function _uploadFiles(inputId, outputId) {\n",
              "  const steps = uploadFilesStep(inputId, outputId);\n",
              "  const outputElement = document.getElementById(outputId);\n",
              "  // Cache steps on the outputElement to make it available for the next call\n",
              "  // to uploadFilesContinue from Python.\n",
              "  outputElement.steps = steps;\n",
              "\n",
              "  return _uploadFilesContinue(outputId);\n",
              "}\n",
              "\n",
              "// This is roughly an async generator (not supported in the browser yet),\n",
              "// where there are multiple asynchronous steps and the Python side is going\n",
              "// to poll for completion of each step.\n",
              "// This uses a Promise to block the python side on completion of each step,\n",
              "// then passes the result of the previous step as the input to the next step.\n",
              "function _uploadFilesContinue(outputId) {\n",
              "  const outputElement = document.getElementById(outputId);\n",
              "  const steps = outputElement.steps;\n",
              "\n",
              "  const next = steps.next(outputElement.lastPromiseValue);\n",
              "  return Promise.resolve(next.value.promise).then((value) => {\n",
              "    // Cache the last promise value to make it available to the next\n",
              "    // step of the generator.\n",
              "    outputElement.lastPromiseValue = value;\n",
              "    return next.value.response;\n",
              "  });\n",
              "}\n",
              "\n",
              "/**\n",
              " * Generator function which is called between each async step of the upload\n",
              " * process.\n",
              " * @param {string} inputId Element ID of the input file picker element.\n",
              " * @param {string} outputId Element ID of the output display.\n",
              " * @return {!Iterable<!Object>} Iterable of next steps.\n",
              " */\n",
              "function* uploadFilesStep(inputId, outputId) {\n",
              "  const inputElement = document.getElementById(inputId);\n",
              "  inputElement.disabled = false;\n",
              "\n",
              "  const outputElement = document.getElementById(outputId);\n",
              "  outputElement.innerHTML = '';\n",
              "\n",
              "  const pickedPromise = new Promise((resolve) => {\n",
              "    inputElement.addEventListener('change', (e) => {\n",
              "      resolve(e.target.files);\n",
              "    });\n",
              "  });\n",
              "\n",
              "  const cancel = document.createElement('button');\n",
              "  inputElement.parentElement.appendChild(cancel);\n",
              "  cancel.textContent = 'Cancel upload';\n",
              "  const cancelPromise = new Promise((resolve) => {\n",
              "    cancel.onclick = () => {\n",
              "      resolve(null);\n",
              "    };\n",
              "  });\n",
              "\n",
              "  // Wait for the user to pick the files.\n",
              "  const files = yield {\n",
              "    promise: Promise.race([pickedPromise, cancelPromise]),\n",
              "    response: {\n",
              "      action: 'starting',\n",
              "    }\n",
              "  };\n",
              "\n",
              "  cancel.remove();\n",
              "\n",
              "  // Disable the input element since further picks are not allowed.\n",
              "  inputElement.disabled = true;\n",
              "\n",
              "  if (!files) {\n",
              "    return {\n",
              "      response: {\n",
              "        action: 'complete',\n",
              "      }\n",
              "    };\n",
              "  }\n",
              "\n",
              "  for (const file of files) {\n",
              "    const li = document.createElement('li');\n",
              "    li.append(span(file.name, {fontWeight: 'bold'}));\n",
              "    li.append(span(\n",
              "        `(${file.type || 'n/a'}) - ${file.size} bytes, ` +\n",
              "        `last modified: ${\n",
              "            file.lastModifiedDate ? file.lastModifiedDate.toLocaleDateString() :\n",
              "                                    'n/a'} - `));\n",
              "    const percent = span('0% done');\n",
              "    li.appendChild(percent);\n",
              "\n",
              "    outputElement.appendChild(li);\n",
              "\n",
              "    const fileDataPromise = new Promise((resolve) => {\n",
              "      const reader = new FileReader();\n",
              "      reader.onload = (e) => {\n",
              "        resolve(e.target.result);\n",
              "      };\n",
              "      reader.readAsArrayBuffer(file);\n",
              "    });\n",
              "    // Wait for the data to be ready.\n",
              "    let fileData = yield {\n",
              "      promise: fileDataPromise,\n",
              "      response: {\n",
              "        action: 'continue',\n",
              "      }\n",
              "    };\n",
              "\n",
              "    // Use a chunked sending to avoid message size limits. See b/62115660.\n",
              "    let position = 0;\n",
              "    do {\n",
              "      const length = Math.min(fileData.byteLength - position, MAX_PAYLOAD_SIZE);\n",
              "      const chunk = new Uint8Array(fileData, position, length);\n",
              "      position += length;\n",
              "\n",
              "      const base64 = btoa(String.fromCharCode.apply(null, chunk));\n",
              "      yield {\n",
              "        response: {\n",
              "          action: 'append',\n",
              "          file: file.name,\n",
              "          data: base64,\n",
              "        },\n",
              "      };\n",
              "\n",
              "      let percentDone = fileData.byteLength === 0 ?\n",
              "          100 :\n",
              "          Math.round((position / fileData.byteLength) * 100);\n",
              "      percent.textContent = `${percentDone}% done`;\n",
              "\n",
              "    } while (position < fileData.byteLength);\n",
              "  }\n",
              "\n",
              "  // All done.\n",
              "  yield {\n",
              "    response: {\n",
              "      action: 'complete',\n",
              "    }\n",
              "  };\n",
              "}\n",
              "\n",
              "scope.google = scope.google || {};\n",
              "scope.google.colab = scope.google.colab || {};\n",
              "scope.google.colab._files = {\n",
              "  _uploadFiles,\n",
              "  _uploadFilesContinue,\n",
              "};\n",
              "})(self);\n",
              "</script> "
            ]
          },
          "metadata": {}
        },
        {
          "output_type": "stream",
          "name": "stdout",
          "text": [
            "Saving cleaned_burnout_dataset.csv to cleaned_burnout_dataset.csv\n",
            "   EmployeeID  Age      Gender    Country            JobRole Department  \\\n",
            "0        1001   50        Male         UK    Sales Associate         HR   \n",
            "1        1002   36        Male    Germany  Software Engineer         IT   \n",
            "2        1003   29  Non-binary      India           IT Admin         IT   \n",
            "3        1004   42        Male  Australia      HR Specialist         IT   \n",
            "4        1005   40        Male     Brazil   Customer Support    Support   \n",
            "\n",
            "   YearsAtCompany  WorkHoursPerWeek RemoteWork  BurnoutLevel  ...  \\\n",
            "0              14                47         No          3.37  ...   \n",
            "1               1                59     Hybrid          7.39  ...   \n",
            "2              13                59     Hybrid          7.10  ...   \n",
            "3              15                31        Yes          4.18  ...   \n",
            "4               6                34        Yes          8.28  ...   \n",
            "\n",
            "   CommuteTime  HasMentalHealthSupport  ManagerSupportScore  HasTherapyAccess  \\\n",
            "0          117                      No                 3.15               Yes   \n",
            "1            8                     Yes                 4.40               Yes   \n",
            "2           75                      No                 3.63                No   \n",
            "3           43                     Yes                 4.50               Yes   \n",
            "4           58                     Yes                 5.51               Yes   \n",
            "\n",
            "   MentalHealthDaysOff  SalaryRange WorkLifeBalanceScore  TeamSize  \\\n",
            "0                    8      40K-60K                 8.82         6   \n",
            "1                    4     80K-100K                 2.80        45   \n",
            "2                    6     80K-100K                 7.28         7   \n",
            "3                    9      60K-80K                 1.31        11   \n",
            "4                    6         <40K                 1.17        18   \n",
            "\n",
            "  CareerGrowthScore  BurnoutRisk  \n",
            "0              9.20            0  \n",
            "1              8.46            1  \n",
            "2              7.96            1  \n",
            "3              8.90            0  \n",
            "4              8.88            1  \n",
            "\n",
            "[5 rows x 25 columns]\n"
          ]
        }
      ]
    },
    {
      "cell_type": "code",
      "source": [
        "X = df.drop(\"BurnoutRisk\", axis=1)\n",
        "y = df[\"BurnoutRisk\"]\n",
        "print(\"Features and target separated.\")\n",
        "print(\"Features shape:\", X.shape)\n",
        "print(\"Target shape:\", y.shape)"
      ],
      "metadata": {
        "colab": {
          "base_uri": "https://localhost:8080/"
        },
        "id": "_SBeFsvgxmCm",
        "outputId": "91ea0487-45ca-416b-d270-bf8666a0ec9a"
      },
      "execution_count": 4,
      "outputs": [
        {
          "output_type": "stream",
          "name": "stdout",
          "text": [
            "Features and target separated.\n",
            "Features shape: (3000, 24)\n",
            "Target shape: (3000,)\n"
          ]
        }
      ]
    },
    {
      "cell_type": "code",
      "source": [
        "#Convert string columns to numeric\n",
        "X = pd.get_dummies(X)\n",
        "print(X.columns)"
      ],
      "metadata": {
        "colab": {
          "base_uri": "https://localhost:8080/"
        },
        "id": "viup0uEHzBB5",
        "outputId": "9c2504cc-5a93-4dc5-d2c9-7cd8d056f99f"
      },
      "execution_count": 5,
      "outputs": [
        {
          "output_type": "stream",
          "name": "stdout",
          "text": [
            "Index(['EmployeeID', 'Age', 'YearsAtCompany', 'WorkHoursPerWeek',\n",
            "       'BurnoutLevel', 'JobSatisfaction', 'StressLevel', 'ProductivityScore',\n",
            "       'SleepHours', 'PhysicalActivityHrs', 'CommuteTime',\n",
            "       'ManagerSupportScore', 'MentalHealthDaysOff', 'WorkLifeBalanceScore',\n",
            "       'TeamSize', 'CareerGrowthScore', 'Gender_Female', 'Gender_Male',\n",
            "       'Gender_Non-binary', 'Gender_Prefer not to say', 'Country_Australia',\n",
            "       'Country_Brazil', 'Country_Canada', 'Country_Germany', 'Country_India',\n",
            "       'Country_UK', 'Country_USA', 'JobRole_Customer Support',\n",
            "       'JobRole_Data Scientist', 'JobRole_HR Specialist', 'JobRole_IT Admin',\n",
            "       'JobRole_Marketing Manager', 'JobRole_Project Manager',\n",
            "       'JobRole_Sales Associate', 'JobRole_Software Engineer',\n",
            "       'Department_Engineering', 'Department_HR', 'Department_IT',\n",
            "       'Department_Marketing', 'Department_Sales', 'Department_Support',\n",
            "       'RemoteWork_Hybrid', 'RemoteWork_No', 'RemoteWork_Yes',\n",
            "       'HasMentalHealthSupport_No', 'HasMentalHealthSupport_Yes',\n",
            "       'HasTherapyAccess_No', 'HasTherapyAccess_Yes', 'SalaryRange_100K+',\n",
            "       'SalaryRange_40K-60K', 'SalaryRange_60K-80K', 'SalaryRange_80K-100K',\n",
            "       'SalaryRange_<40K'],\n",
            "      dtype='object')\n"
          ]
        }
      ]
    },
    {
      "cell_type": "code",
      "source": [
        "#Split into train and test sets\n",
        "X_train, X_test, y_train, y_test = train_test_split(X, y, test_size=0.2, random_state=42)\n",
        "print(\"Training samples:\", X_train.shape[0])\n",
        "print(\"Testing samples:\", X_test.shape[0])"
      ],
      "metadata": {
        "colab": {
          "base_uri": "https://localhost:8080/"
        },
        "id": "UPMqHDBux0Au",
        "outputId": "49b5ecff-af77-41c0-a834-f95fa990f2e5"
      },
      "execution_count": 6,
      "outputs": [
        {
          "output_type": "stream",
          "name": "stdout",
          "text": [
            "Training samples: 2400\n",
            "Testing samples: 600\n"
          ]
        }
      ]
    },
    {
      "cell_type": "code",
      "source": [
        "#Train Models with All Features\n",
        "\n",
        "#Decision Tree\n",
        "dt = DecisionTreeClassifier(random_state=42)\n",
        "dt.fit(X_train, y_train)\n",
        "dt_preds = dt.predict(X_test)\n",
        "\n",
        "#Random Forest\n",
        "rf = RandomForestClassifier(random_state=42)\n",
        "rf.fit(X_train, y_train)\n",
        "rf_preds = rf.predict(X_test)\n",
        "\n",
        "#k-NN (needs scaling)\n",
        "#k-NN is a distance-based algorithm,If features are on different scales, the distance calculation becomes unfair.\n",
        "scaler = StandardScaler()\n",
        "X_train_scaled = scaler.fit_transform(X_train)\n",
        "X_test_scaled = scaler.transform(X_test)\n",
        "\n",
        "knn = KNeighborsClassifier()\n",
        "knn.fit(X_train_scaled, y_train)\n",
        "knn_preds = knn.predict(X_test_scaled)\n",
        "\n",
        "print(\"Decision Tree:\", accuracy_score(y_test, dt_preds))\n",
        "print(\"Random Forest:\", accuracy_score(y_test, rf_preds))\n",
        "print(\"k-NN:\", accuracy_score(y_test, knn_preds))\n"
      ],
      "metadata": {
        "colab": {
          "base_uri": "https://localhost:8080/"
        },
        "id": "TijewgRrx8-F",
        "outputId": "ed52fadd-dea1-4dab-e498-f1972cee269c"
      },
      "execution_count": 7,
      "outputs": [
        {
          "output_type": "stream",
          "name": "stdout",
          "text": [
            "Decision Tree: 1.0\n",
            "Random Forest: 1.0\n",
            "k-NN: 0.725\n"
          ]
        }
      ]
    },
    {
      "cell_type": "code",
      "source": [
        "# Use mutual information to score features\n",
        "mi_scores = mutual_info_classif(X, y)\n",
        "mi_series = pd.Series(mi_scores, index=X.columns).sort_values(ascending=False)\n",
        "top3_mi = mi_series.head(3)\n",
        "print(\"Top 3 Features (Mutual Info):\\n\", top3_mi)\n"
      ],
      "metadata": {
        "colab": {
          "base_uri": "https://localhost:8080/"
        },
        "id": "rs75B6PXzUUS",
        "outputId": "057574fc-2912-461c-f2ea-c2c48a050c76"
      },
      "execution_count": 8,
      "outputs": [
        {
          "output_type": "stream",
          "name": "stdout",
          "text": [
            "Top 3 Features (Mutual Info):\n",
            " BurnoutLevel             0.631453\n",
            "JobRole_HR Specialist    0.016094\n",
            "WorkHoursPerWeek         0.013417\n",
            "dtype: float64\n"
          ]
        }
      ]
    },
    {
      "cell_type": "code",
      "source": [
        "X_top3 = X[top3_mi.index]\n",
        "X_train3, X_test3, y_train3, y_test3 = train_test_split(X_top3, y, test_size=0.2, random_state=42)\n",
        "\n",
        "# Decision Tree\n",
        "dt.fit(X_train3, y_train3)\n",
        "dt3_preds = dt.predict(X_test3)\n",
        "\n",
        "# Random Forest\n",
        "rf.fit(X_train3, y_train3)\n",
        "rf3_preds = rf.predict(X_test3)\n",
        "\n",
        "# k-NN\n",
        "X_train3_scaled = scaler.fit_transform(X_train3)\n",
        "X_test3_scaled = scaler.transform(X_test3)\n",
        "knn.fit(X_train3_scaled, y_train3)\n",
        "knn3_preds = knn.predict(X_test3_scaled)\n",
        "\n"
      ],
      "metadata": {
        "id": "3o4LklqLzqpF"
      },
      "execution_count": 9,
      "outputs": []
    },
    {
      "cell_type": "code",
      "source": [
        "print(\"Decision Tree (Top 3):\", accuracy_score(y_test3, dt3_preds))\n",
        "print(\"Random Forest (Top 3):\", accuracy_score(y_test3, rf3_preds))\n",
        "print(\"k-NN (Top 3):\", accuracy_score(y_test3, knn3_preds))"
      ],
      "metadata": {
        "colab": {
          "base_uri": "https://localhost:8080/"
        },
        "id": "CMzjJn_wz6Ql",
        "outputId": "a7d219a9-49e2-4b4e-b337-066b97b3b7be"
      },
      "execution_count": 10,
      "outputs": [
        {
          "output_type": "stream",
          "name": "stdout",
          "text": [
            "Decision Tree (Top 3): 1.0\n",
            "Random Forest (Top 3): 1.0\n",
            "k-NN (Top 3): 0.99\n"
          ]
        }
      ]
    },
    {
      "cell_type": "markdown",
      "source": [
        "| Model         | Full Accuracy | Top 3 Accuracy |\n",
        "| ------------- | ------------- | -------------- |\n",
        "| Decision Tree | 1.0           | 1.0            |\n",
        "| Random Forest | 1.0           | 1.0            |\n",
        "| k-NN          | 0.725         | ~ 0.99         |\n"
      ],
      "metadata": {
        "id": "TCzbqPv-0LPx"
      }
    },
    {
      "cell_type": "markdown",
      "source": [
        "1) Trees don’t care much if we give them the whole forest(all features) or just a few branches(top 3 features) they still did a good job.(100% accuracy)\n",
        "\n",
        "2) k-NN improved a lot with 3 good features (from 72% to 99%)\n",
        "\n",
        "3) We can concludee that, removing the useless features helped the model focus better,especially k-NN which is based on distance.\n",
        "\n",
        "4)Sometimes less is more. smart feature selection can give big results, especially for models like k-NN"
      ],
      "metadata": {
        "id": "Bm9v2pvU1b7P"
      }
    }
  ]
}