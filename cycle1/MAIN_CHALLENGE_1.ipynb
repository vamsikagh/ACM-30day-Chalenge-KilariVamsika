{
  "nbformat": 4,
  "nbformat_minor": 0,
  "metadata": {
    "colab": {
      "provenance": []
    },
    "kernelspec": {
      "name": "python3",
      "display_name": "Python 3"
    },
    "language_info": {
      "name": "python"
    }
  },
  "cells": [
    {
      "cell_type": "code",
      "source": [
        "#import all libraries needed\n",
        "import pandas as pd\n",
        "import seaborn as sns\n",
        "import matplotlib.pyplot as plt\n",
        "from sklearn.preprocessing import LabelEncoder\n",
        "from sklearn.preprocessing import StandardScaler\n",
        "from sklearn.model_selection import train_test_split\n",
        "from sklearn.feature_selection import mutual_info_regression\n",
        "from sklearn.linear_model import LinearRegression, Ridge, Lasso\n",
        "from sklearn.metrics import mean_squared_error, r2_score\n",
        "from sklearn.ensemble import RandomForestRegressor"
      ],
      "metadata": {
        "id": "30f-kY1n4kkS"
      },
      "execution_count": 75,
      "outputs": []
    },
    {
      "cell_type": "code",
      "execution_count": 76,
      "metadata": {
        "colab": {
          "base_uri": "https://localhost:8080/",
          "height": 177
        },
        "id": "sg_Veb2m3ArK",
        "outputId": "35ff5240-03a0-4104-cf22-2819754847ce"
      },
      "outputs": [
        {
          "output_type": "display_data",
          "data": {
            "text/plain": [
              "<IPython.core.display.HTML object>"
            ],
            "text/html": [
              "\n",
              "     <input type=\"file\" id=\"files-21665855-cd87-49e0-aab1-a438c695cc28\" name=\"files[]\" multiple disabled\n",
              "        style=\"border:none\" />\n",
              "     <output id=\"result-21665855-cd87-49e0-aab1-a438c695cc28\">\n",
              "      Upload widget is only available when the cell has been executed in the\n",
              "      current browser session. Please rerun this cell to enable.\n",
              "      </output>\n",
              "      <script>// Copyright 2017 Google LLC\n",
              "//\n",
              "// Licensed under the Apache License, Version 2.0 (the \"License\");\n",
              "// you may not use this file except in compliance with the License.\n",
              "// You may obtain a copy of the License at\n",
              "//\n",
              "//      http://www.apache.org/licenses/LICENSE-2.0\n",
              "//\n",
              "// Unless required by applicable law or agreed to in writing, software\n",
              "// distributed under the License is distributed on an \"AS IS\" BASIS,\n",
              "// WITHOUT WARRANTIES OR CONDITIONS OF ANY KIND, either express or implied.\n",
              "// See the License for the specific language governing permissions and\n",
              "// limitations under the License.\n",
              "\n",
              "/**\n",
              " * @fileoverview Helpers for google.colab Python module.\n",
              " */\n",
              "(function(scope) {\n",
              "function span(text, styleAttributes = {}) {\n",
              "  const element = document.createElement('span');\n",
              "  element.textContent = text;\n",
              "  for (const key of Object.keys(styleAttributes)) {\n",
              "    element.style[key] = styleAttributes[key];\n",
              "  }\n",
              "  return element;\n",
              "}\n",
              "\n",
              "// Max number of bytes which will be uploaded at a time.\n",
              "const MAX_PAYLOAD_SIZE = 100 * 1024;\n",
              "\n",
              "function _uploadFiles(inputId, outputId) {\n",
              "  const steps = uploadFilesStep(inputId, outputId);\n",
              "  const outputElement = document.getElementById(outputId);\n",
              "  // Cache steps on the outputElement to make it available for the next call\n",
              "  // to uploadFilesContinue from Python.\n",
              "  outputElement.steps = steps;\n",
              "\n",
              "  return _uploadFilesContinue(outputId);\n",
              "}\n",
              "\n",
              "// This is roughly an async generator (not supported in the browser yet),\n",
              "// where there are multiple asynchronous steps and the Python side is going\n",
              "// to poll for completion of each step.\n",
              "// This uses a Promise to block the python side on completion of each step,\n",
              "// then passes the result of the previous step as the input to the next step.\n",
              "function _uploadFilesContinue(outputId) {\n",
              "  const outputElement = document.getElementById(outputId);\n",
              "  const steps = outputElement.steps;\n",
              "\n",
              "  const next = steps.next(outputElement.lastPromiseValue);\n",
              "  return Promise.resolve(next.value.promise).then((value) => {\n",
              "    // Cache the last promise value to make it available to the next\n",
              "    // step of the generator.\n",
              "    outputElement.lastPromiseValue = value;\n",
              "    return next.value.response;\n",
              "  });\n",
              "}\n",
              "\n",
              "/**\n",
              " * Generator function which is called between each async step of the upload\n",
              " * process.\n",
              " * @param {string} inputId Element ID of the input file picker element.\n",
              " * @param {string} outputId Element ID of the output display.\n",
              " * @return {!Iterable<!Object>} Iterable of next steps.\n",
              " */\n",
              "function* uploadFilesStep(inputId, outputId) {\n",
              "  const inputElement = document.getElementById(inputId);\n",
              "  inputElement.disabled = false;\n",
              "\n",
              "  const outputElement = document.getElementById(outputId);\n",
              "  outputElement.innerHTML = '';\n",
              "\n",
              "  const pickedPromise = new Promise((resolve) => {\n",
              "    inputElement.addEventListener('change', (e) => {\n",
              "      resolve(e.target.files);\n",
              "    });\n",
              "  });\n",
              "\n",
              "  const cancel = document.createElement('button');\n",
              "  inputElement.parentElement.appendChild(cancel);\n",
              "  cancel.textContent = 'Cancel upload';\n",
              "  const cancelPromise = new Promise((resolve) => {\n",
              "    cancel.onclick = () => {\n",
              "      resolve(null);\n",
              "    };\n",
              "  });\n",
              "\n",
              "  // Wait for the user to pick the files.\n",
              "  const files = yield {\n",
              "    promise: Promise.race([pickedPromise, cancelPromise]),\n",
              "    response: {\n",
              "      action: 'starting',\n",
              "    }\n",
              "  };\n",
              "\n",
              "  cancel.remove();\n",
              "\n",
              "  // Disable the input element since further picks are not allowed.\n",
              "  inputElement.disabled = true;\n",
              "\n",
              "  if (!files) {\n",
              "    return {\n",
              "      response: {\n",
              "        action: 'complete',\n",
              "      }\n",
              "    };\n",
              "  }\n",
              "\n",
              "  for (const file of files) {\n",
              "    const li = document.createElement('li');\n",
              "    li.append(span(file.name, {fontWeight: 'bold'}));\n",
              "    li.append(span(\n",
              "        `(${file.type || 'n/a'}) - ${file.size} bytes, ` +\n",
              "        `last modified: ${\n",
              "            file.lastModifiedDate ? file.lastModifiedDate.toLocaleDateString() :\n",
              "                                    'n/a'} - `));\n",
              "    const percent = span('0% done');\n",
              "    li.appendChild(percent);\n",
              "\n",
              "    outputElement.appendChild(li);\n",
              "\n",
              "    const fileDataPromise = new Promise((resolve) => {\n",
              "      const reader = new FileReader();\n",
              "      reader.onload = (e) => {\n",
              "        resolve(e.target.result);\n",
              "      };\n",
              "      reader.readAsArrayBuffer(file);\n",
              "    });\n",
              "    // Wait for the data to be ready.\n",
              "    let fileData = yield {\n",
              "      promise: fileDataPromise,\n",
              "      response: {\n",
              "        action: 'continue',\n",
              "      }\n",
              "    };\n",
              "\n",
              "    // Use a chunked sending to avoid message size limits. See b/62115660.\n",
              "    let position = 0;\n",
              "    do {\n",
              "      const length = Math.min(fileData.byteLength - position, MAX_PAYLOAD_SIZE);\n",
              "      const chunk = new Uint8Array(fileData, position, length);\n",
              "      position += length;\n",
              "\n",
              "      const base64 = btoa(String.fromCharCode.apply(null, chunk));\n",
              "      yield {\n",
              "        response: {\n",
              "          action: 'append',\n",
              "          file: file.name,\n",
              "          data: base64,\n",
              "        },\n",
              "      };\n",
              "\n",
              "      let percentDone = fileData.byteLength === 0 ?\n",
              "          100 :\n",
              "          Math.round((position / fileData.byteLength) * 100);\n",
              "      percent.textContent = `${percentDone}% done`;\n",
              "\n",
              "    } while (position < fileData.byteLength);\n",
              "  }\n",
              "\n",
              "  // All done.\n",
              "  yield {\n",
              "    response: {\n",
              "      action: 'complete',\n",
              "    }\n",
              "  };\n",
              "}\n",
              "\n",
              "scope.google = scope.google || {};\n",
              "scope.google.colab = scope.google.colab || {};\n",
              "scope.google.colab._files = {\n",
              "  _uploadFiles,\n",
              "  _uploadFilesContinue,\n",
              "};\n",
              "})(self);\n",
              "</script> "
            ]
          },
          "metadata": {}
        },
        {
          "output_type": "stream",
          "name": "stdout",
          "text": [
            "Saving insurance.csv to insurance (3).csv\n",
            "   age     sex     bmi  children smoker     region      charges\n",
            "0   19  female  27.900         0    yes  southwest  16884.92400\n",
            "1   18    male  33.770         1     no  southeast   1725.55230\n",
            "2   28    male  33.000         3     no  southeast   4449.46200\n",
            "3   33    male  22.705         0     no  northwest  21984.47061\n",
            "4   32    male  28.880         0     no  northwest   3866.85520\n"
          ]
        }
      ],
      "source": [
        "#Load and display first 5 rows of the data\n",
        "from google.colab import files\n",
        "uploaded = files.upload()\n",
        "df = pd.read_csv('insurance.csv')\n",
        "print(df.head())"
      ]
    },
    {
      "cell_type": "code",
      "source": [
        "#to see how big the data is we print no. of rows and columns\n",
        "print(df.shape)\n",
        "\n",
        "#see column names, data types\n",
        "print(df.info())\n",
        "\n",
        "#Check if any values are missing in any column\n",
        "print(df.isnull().sum())\n",
        "\n",
        "#See if there are any duplicate rows\n",
        "print(\"duplicated rows:\",df.duplicated().sum())\n",
        "\n",
        "#Show summary stats for number columns To check for weird values like negative charges or extremely high ages\n",
        "print(df.describe())"
      ],
      "metadata": {
        "colab": {
          "base_uri": "https://localhost:8080/"
        },
        "id": "erNWzjr_6jgv",
        "outputId": "4858771c-57d1-4406-c61c-c2de7a8ebc60"
      },
      "execution_count": 77,
      "outputs": [
        {
          "output_type": "stream",
          "name": "stdout",
          "text": [
            "(1338, 7)\n",
            "<class 'pandas.core.frame.DataFrame'>\n",
            "RangeIndex: 1338 entries, 0 to 1337\n",
            "Data columns (total 7 columns):\n",
            " #   Column    Non-Null Count  Dtype  \n",
            "---  ------    --------------  -----  \n",
            " 0   age       1338 non-null   int64  \n",
            " 1   sex       1338 non-null   object \n",
            " 2   bmi       1338 non-null   float64\n",
            " 3   children  1338 non-null   int64  \n",
            " 4   smoker    1338 non-null   object \n",
            " 5   region    1338 non-null   object \n",
            " 6   charges   1338 non-null   float64\n",
            "dtypes: float64(2), int64(2), object(3)\n",
            "memory usage: 73.3+ KB\n",
            "None\n",
            "age         0\n",
            "sex         0\n",
            "bmi         0\n",
            "children    0\n",
            "smoker      0\n",
            "region      0\n",
            "charges     0\n",
            "dtype: int64\n",
            "duplicated rows: 1\n",
            "               age          bmi     children       charges\n",
            "count  1338.000000  1338.000000  1338.000000   1338.000000\n",
            "mean     39.207025    30.663397     1.094918  13270.422265\n",
            "std      14.049960     6.098187     1.205493  12110.011237\n",
            "min      18.000000    15.960000     0.000000   1121.873900\n",
            "25%      27.000000    26.296250     0.000000   4740.287150\n",
            "50%      39.000000    30.400000     1.000000   9382.033000\n",
            "75%      51.000000    34.693750     2.000000  16639.912515\n",
            "max      64.000000    53.130000     5.000000  63770.428010\n"
          ]
        }
      ]
    },
    {
      "cell_type": "markdown",
      "source": [
        "we found no missing values and one duplicate row"
      ],
      "metadata": {
        "id": "QfxwSXZY7n2_"
      }
    },
    {
      "cell_type": "code",
      "source": [
        "#Remove duplicates\n",
        "df = df.drop_duplicates()\n",
        "# Check new shape to confirm removal\n",
        "print(\"New shape after removing duplicates:\", df.shape)\n"
      ],
      "metadata": {
        "colab": {
          "base_uri": "https://localhost:8080/"
        },
        "id": "iIEVO_hX7m3z",
        "outputId": "b8343c4e-9cad-4a5e-ab3d-400d26f81c30"
      },
      "execution_count": 78,
      "outputs": [
        {
          "output_type": "stream",
          "name": "stdout",
          "text": [
            "New shape after removing duplicates: (1337, 7)\n"
          ]
        }
      ]
    },
    {
      "cell_type": "code",
      "source": [
        "#check all the unique values in the 3 text columns (because there might be Male and male and computer might take them for 2 different values.)\n",
        "print(\"Unique values in 'sex':\", df['sex'].unique())\n",
        "print(\"Unique values in 'smoker':\", df['smoker'].unique())\n",
        "print(\"Unique values in 'region':\", df['region'].unique())"
      ],
      "metadata": {
        "colab": {
          "base_uri": "https://localhost:8080/"
        },
        "id": "e73-e1wl7g6e",
        "outputId": "ac54dd08-dc35-44ba-f8ee-fc6cd4d2f7aa"
      },
      "execution_count": 79,
      "outputs": [
        {
          "output_type": "stream",
          "name": "stdout",
          "text": [
            "Unique values in 'sex': ['female' 'male']\n",
            "Unique values in 'smoker': ['yes' 'no']\n",
            "Unique values in 'region': ['southwest' 'southeast' 'northwest' 'northeast']\n"
          ]
        }
      ]
    },
    {
      "cell_type": "code",
      "source": [
        "#Plot boxplots for numerical columns\n",
        "plt.figure(figsize=(15, 5))\n",
        "\n",
        "#Boxplot for 'bmi'\n",
        "plt.subplot(1, 3, 1)\n",
        "sns.boxplot(x=df['bmi'])\n",
        "plt.title('BMI Outliers')\n",
        "\n",
        "#Boxplot for 'charges'\n",
        "plt.subplot(1, 3, 2)\n",
        "sns.boxplot(x=df['charges'])\n",
        "plt.title('Charges Outliers')\n",
        "\n",
        "#Boxplot for 'age'\n",
        "plt.subplot(1, 3, 3)\n",
        "sns.boxplot(x=df['age'])\n",
        "plt.title('Age Outliers')\n",
        "\n",
        "plt.tight_layout()#automatically adjusts the spacing between plots\n",
        "plt.show()\n"
      ],
      "metadata": {
        "colab": {
          "base_uri": "https://localhost:8080/",
          "height": 462
        },
        "id": "YFU7Sbnm8yez",
        "outputId": "925667d5-5f21-4767-8f95-e35c35a51184"
      },
      "execution_count": 80,
      "outputs": [
        {
          "output_type": "display_data",
          "data": {
            "text/plain": [
              "<Figure size 1500x500 with 3 Axes>"
            ],
            "image/png": "[encoded data removed]"
          },
          "metadata": {}
        }
      ]
    },
    {
      "cell_type": "markdown",
      "source": [
        "THE CHILDREN COLUMN DOESNT NEED BOXPLOT:\n",
        "The children column has only whole numbers in a small range (0–5), and all values are realistic.\n",
        "Since it's not continuous like bmi or charges, boxplots aren't useful here.\n",
        "There are also no outliers like negative numbers or values like 20.\n",
        "So, no outlier handling is needed asthe data is already clean."
      ],
      "metadata": {
        "id": "7n53rAXF-F3J"
      }
    },
    {
      "cell_type": "markdown",
      "source": [
        "BMI:Has some right-side outliers (higher BMI values beyond the whisker).\n",
        "\n",
        "Charges: Has significant right-side outliers (very high charges).\n",
        "\n",
        "Age:No outliers (all values lie neatly between the whiskers)."
      ],
      "metadata": {
        "id": "WcbYpXSaJr-a"
      }
    },
    {
      "cell_type": "code",
      "source": [
        "#make a copy of the original data\n",
        "cleaned_df = df.copy()\n",
        "\n",
        "# Define a function to remove outliers using IQR (Interquartile Range method)\n",
        "def remove_outliers_iqr(df, col):\n",
        "    #Calculate Q1 (25th percentile) and Q3 (75th percentile)\n",
        "    Q1 = df[col].quantile(0.25)\n",
        "    Q3 = df[col].quantile(0.75)\n",
        "\n",
        "    # Step 2: Calculate the IQR\n",
        "    IQR = Q3 - Q1\n",
        "\n",
        "    #Find the lower and upper limits to detect outliers\n",
        "    lower_bound = Q1 - 1.5 * IQR\n",
        "    upper_bound = Q3 + 1.5 * IQR\n",
        "\n",
        "    #Filter out the outliers (keep only values inside the bounds)\n",
        "    filtered_df = df[(df[col] >= lower_bound) & (df[col] <= upper_bound)]\n",
        "\n",
        "    #Show how many rows were removed\n",
        "    removed = df.shape[0] - filtered_df.shape[0]\n",
        "    print(f\"\\nOutlier removal for '{col}':\")\n",
        "    print(f\"  Lower Bound = {lower_bound}\")\n",
        "    print(f\"  Upper Bound = {upper_bound}\")\n",
        "    print(f\"  {removed} outliers removed from '{col}'\")\n",
        "\n",
        "    #Return the cleaned data\n",
        "    return filtered_df\n",
        "\n",
        "#Now we apply the function to the 'bmi' and 'charges' columns\n",
        "for col in ['bmi', 'charges']:\n",
        "    cleaned_df = remove_outliers_iqr(cleaned_df, col)\n",
        "\n",
        "#check the final number of rows after outlier removal\n",
        "print(\"Final data shape after outlier removal:\", cleaned_df.shape)\n",
        "\n"
      ],
      "metadata": {
        "colab": {
          "base_uri": "https://localhost:8080/"
        },
        "id": "OqV2IoSk8qGk",
        "outputId": "22edbdf2-e432-4b3a-8bf6-ff22253ebda5"
      },
      "execution_count": 81,
      "outputs": [
        {
          "output_type": "stream",
          "name": "stdout",
          "text": [
            "\n",
            "Outlier removal for 'bmi':\n",
            "  Lower Bound = 13.674999999999994\n",
            "  Upper Bound = 47.31500000000001\n",
            "  9 outliers removed from 'bmi'\n",
            "\n",
            "Outlier removal for 'charges':\n",
            "  Lower Bound = -13045.6413425\n",
            "  Upper Bound = 34394.269037499995\n",
            "  138 outliers removed from 'charges'\n",
            "Final data shape after outlier removal: (1190, 7)\n"
          ]
        }
      ]
    },
    {
      "cell_type": "code",
      "source": [
        "#Plot boxplots for numerical columns\n",
        "plt.figure(figsize=(20, 5))\n",
        "\n",
        "#Boxplot for 'bmi'\n",
        "plt.subplot(1, 3, 1)\n",
        "sns.boxplot(x=cleaned_df['bmi'])\n",
        "plt.title('BMI Outliers')\n",
        "\n",
        "#Boxplot for 'charges'\n",
        "plt.subplot(1, 3, 2)\n",
        "sns.boxplot(x=cleaned_df['charges'])\n",
        "plt.title('Charges Outliers')\n",
        "\n",
        "plt.tight_layout()#automatically adjusts the spacing between plots\n",
        "plt.show()"
      ],
      "metadata": {
        "colab": {
          "base_uri": "https://localhost:8080/",
          "height": 507
        },
        "id": "uDW0aa8CUmly",
        "outputId": "59b7db36-77b8-494f-e54c-b17f8525faa8"
      },
      "execution_count": 82,
      "outputs": [
        {
          "output_type": "display_data",
          "data": {
            "text/plain": [
              "<Figure size 2000x500 with 2 Axes>"
            ],
            "image/png": "[encoded data removed]"
          },
          "metadata": {}
        }
      ]
    },
    {
      "cell_type": "code",
      "source": [
        "# Manually remove very high charges (beyond 30,000)\n",
        "cleaned_df = cleaned_df[cleaned_df['bmi'] < 45]\n",
        "cleaned_df = cleaned_df[cleaned_df['charges'] < 23000]"
      ],
      "metadata": {
        "id": "O2Df35NcUuaj"
      },
      "execution_count": 83,
      "outputs": []
    },
    {
      "cell_type": "code",
      "source": [
        "#Plot boxplots for numerical columns\n",
        "plt.figure(figsize=(20, 5))\n",
        "\n",
        "#Boxplot for 'bmi'\n",
        "plt.subplot(1, 3, 1)\n",
        "sns.boxplot(x=cleaned_df['bmi'])\n",
        "plt.title('BMI Outliers after removing')\n",
        "\n",
        "#Boxplot for 'charges'\n",
        "plt.subplot(1, 3, 2)\n",
        "sns.boxplot(x=cleaned_df['charges'])\n",
        "plt.title('Charges Outliers after removing')\n",
        "\n",
        "plt.tight_layout()\n",
        "plt.show()"
      ],
      "metadata": {
        "colab": {
          "base_uri": "https://localhost:8080/",
          "height": 507
        },
        "id": "DgYoKHJKU3V1",
        "outputId": "9d88940e-906e-4b79-eb6c-473423fe20c3"
      },
      "execution_count": 84,
      "outputs": [
        {
          "output_type": "display_data",
          "data": {
            "text/plain": [
              "<Figure size 2000x500 with 2 Axes>"
            ],
            "image/png": "[encoded data removed]"
          },
          "metadata": {}
        }
      ]
    },
    {
      "cell_type": "code",
      "source": [
        "# Calculate correlation\n",
        "corr = cleaned_df.corr(numeric_only=True)\n",
        "\n",
        "# Plot heatmap\n",
        "plt.figure(figsize=(6, 4))\n",
        "sns.heatmap(corr, annot=True, cmap='coolwarm')\n",
        "plt.title('Correlation Heatmap')\n",
        "plt.show()"
      ],
      "metadata": {
        "colab": {
          "base_uri": "https://localhost:8080/",
          "height": 391
        },
        "id": "evXz6HsbTOI9",
        "outputId": "44897b61-140b-4fb4-b9e4-eb2ecf176f5d"
      },
      "execution_count": 85,
      "outputs": [
        {
          "output_type": "display_data",
          "data": {
            "text/plain": [
              "<Figure size 600x400 with 2 Axes>"
            ],
            "image/png": "[encoded data removed]"
          },
          "metadata": {}
        }
      ]
    },
    {
      "cell_type": "code",
      "source": [
        "#list the categorical columns\n",
        "categorical_cols = ['sex', 'smoker', 'region']\n",
        "\n",
        "# Initialize LabelEncoder for each categorical column\n",
        "le_sex = LabelEncoder()\n",
        "le_smoker = LabelEncoder()\n",
        "le_region = LabelEncoder()\n",
        "\n",
        "# Fit and transform the categorical columns\n",
        "df['sex'] = le_sex.fit_transform(df['sex'])\n",
        "df['smoker'] = le_smoker.fit_transform(df['smoker'])\n",
        "df['region'] = le_region.fit_transform(df['region'])\n",
        "\n",
        "# Verify the encoded values (optional)\n",
        "print(\"Encoded 'sex' values:\", df['sex'].unique())\n",
        "print(\"Encoded 'smoker' values:\", df['smoker'].unique())\n",
        "print(\"Encoded 'region' values:\", df['region'].unique())\n"
      ],
      "metadata": {
        "colab": {
          "base_uri": "https://localhost:8080/"
        },
        "id": "klPwq_Q8XHSH",
        "outputId": "c904af0f-660a-4dc4-fd0e-f7797bd295ae"
      },
      "execution_count": 86,
      "outputs": [
        {
          "output_type": "stream",
          "name": "stdout",
          "text": [
            "Encoded 'sex' values: [0 1]\n",
            "Encoded 'smoker' values: [1 0]\n",
            "Encoded 'region' values: [3 2 1 0]\n"
          ]
        }
      ]
    },
    {
      "cell_type": "markdown",
      "source": [
        "What drop_first=True means:\n",
        "It drops one column from each category group to avoid dummy variable trap (where multicollinearity occurs).\n",
        "\n",
        "For example, if sex has ['male', 'female'], only one column like sex_male is kept (female becomes the default)."
      ],
      "metadata": {
        "id": "Z1fuxLnlYdqz"
      }
    },
    {
      "cell_type": "code",
      "source": [
        "print(\"Columns after encoding:\")\n",
        "print(df.columns.tolist())"
      ],
      "metadata": {
        "colab": {
          "base_uri": "https://localhost:8080/"
        },
        "id": "8v33BlTvYRay",
        "outputId": "809c77ff-c74a-40bf-9eba-9cca9be2b906"
      },
      "execution_count": 87,
      "outputs": [
        {
          "output_type": "stream",
          "name": "stdout",
          "text": [
            "Columns after encoding:\n",
            "['age', 'sex', 'bmi', 'children', 'smoker', 'region', 'charges']\n"
          ]
        }
      ]
    },
    {
      "cell_type": "code",
      "source": [
        "# Define the numerical columns to scale\n",
        "num_cols = ['age', 'bmi', 'children']\n",
        "\n",
        "# Create the scaler\n",
        "scaler = StandardScaler()\n",
        "\n",
        "# Fit and transform the numerical features\n",
        "df[num_cols] = scaler.fit_transform(df[num_cols])\n",
        "\n",
        "# Show the scaled data\n",
        "print(\"Scaled data (first 5 rows):\")\n",
        "print(df[num_cols].head())\n",
        "\n",
        "# Separate features and target\n",
        "X = df.drop('charges', axis=1)\n",
        "y = df['charges']\n",
        "\n",
        "# Split the data into training and testing sets\n",
        "X_train, X_test, y_train, y_test = train_test_split(X, y, test_size=0.2, random_state=42)"
      ],
      "metadata": {
        "colab": {
          "base_uri": "https://localhost:8080/"
        },
        "id": "FA4VxMLXZ1iL",
        "outputId": "56b3e813-6622-4845-bfa7-78d1e72e7b1d"
      },
      "execution_count": 88,
      "outputs": [
        {
          "output_type": "stream",
          "name": "stdout",
          "text": [
            "Scaled data (first 5 rows):\n",
            "        age       bmi  children\n",
            "0 -1.440418 -0.453160 -0.909234\n",
            "1 -1.511647  0.509422 -0.079442\n",
            "2 -0.799350  0.383155  1.580143\n",
            "3 -0.443201 -1.305052 -0.909234\n",
            "4 -0.514431 -0.292456 -0.909234\n"
          ]
        }
      ]
    },
    {
      "cell_type": "markdown",
      "source": [
        "###Feature Scaling\n",
        "We scale `age`, `bmi`, and `children` using StandardScaler to ensure all features are on a similar range, which helps regression models perform better.\n"
      ],
      "metadata": {
        "id": "QlmR6YLmZLQE"
      }
    },
    {
      "cell_type": "markdown",
      "source": [
        "we don't scale charges because:\n",
        "`charges` is the target/output we’re trying to predict.In this dataset, the `charges` column represents the medical insurance cost for each person.\n",
        "\n",
        "It should be left unscaled so that we can evaluate models using actual money values"
      ],
      "metadata": {
        "id": "ZQRv6gN5aFBp"
      }
    },
    {
      "cell_type": "code",
      "source": [
        "# Separate features and target\n",
        "X = df.drop('charges', axis=1)\n",
        "y = df['charges']\n",
        "\n",
        "# Compute mutual information scores\n",
        "mi_scores = mutual_info_regression(X, y)\n",
        "\n",
        "# Store scores in a DataFrame\n",
        "mi_df = pd.DataFrame({'Feature': X.columns, 'MI Score': mi_scores})\n",
        "\n",
        "# Sort by importance\n",
        "mi_df.sort_values(by='MI Score', ascending=False, inplace=True)\n",
        "\n",
        "# Display the feature importance table\n",
        "print(mi_df)"
      ],
      "metadata": {
        "colab": {
          "base_uri": "https://localhost:8080/"
        },
        "id": "0CXmzj0_jxwo",
        "outputId": "fd125bf7-0e9b-4906-b24f-e0b53c7dcbca"
      },
      "execution_count": 89,
      "outputs": [
        {
          "output_type": "stream",
          "name": "stdout",
          "text": [
            "    Feature  MI Score\n",
            "0       age  1.498892\n",
            "4    smoker  0.369276\n",
            "1       sex  0.176281\n",
            "3  children  0.160857\n",
            "5    region  0.075130\n",
            "2       bmi  0.074961\n"
          ]
        }
      ]
    },
    {
      "cell_type": "code",
      "source": [
        "# Separate features and target\n",
        "X = df.drop('charges', axis=1)\n",
        "y = df['charges']\n",
        "\n",
        "# Feature selection using Random Forest importance\n",
        "rf = RandomForestRegressor(random_state=42)\n",
        "rf.fit(X, y)\n",
        "importances = rf.feature_importances_\n",
        "\n",
        "# Create a DataFrame\n",
        "feat_imp = pd.DataFrame({'Feature': X.columns, 'Importance': importances})\n",
        "feat_imp.sort_values(by='Importance', ascending=False, inplace=True)\n",
        "\n",
        "# Select top 6 features\n",
        "top_features = feat_imp.head(6)['Feature'].tolist()\n",
        "print(\"Top features selected by Random Forest:\", top_features)\n",
        "\n",
        "# Subset the features\n",
        "X_selected = X[top_features]\n"
      ],
      "metadata": {
        "colab": {
          "base_uri": "https://localhost:8080/"
        },
        "id": "ouJqcr-Blpqx",
        "outputId": "b36d0b5a-d144-4c5d-b87f-31e9c82bfe52"
      },
      "execution_count": 90,
      "outputs": [
        {
          "output_type": "stream",
          "name": "stdout",
          "text": [
            "Top features selected by Random Forest: ['smoker', 'bmi', 'age', 'children', 'region', 'sex']\n"
          ]
        }
      ]
    },
    {
      "cell_type": "code",
      "source": [
        "# Train the models\n",
        "# Split into training (80%) and testing (20%)\n",
        "X_train_sel, X_test_sel, y_train, y_test = train_test_split(X_selected, y, test_size=0.2, random_state=42)\n",
        "\n",
        "print(\"Training set size:\", X_train_sel.shape)\n",
        "print(\"Test set size:\", X_test_sel.shape)\n"
      ],
      "metadata": {
        "colab": {
          "base_uri": "https://localhost:8080/"
        },
        "id": "98b1AJ7mZyh1",
        "outputId": "6a9e6cb8-20c5-48f4-d514-16c6fd608b33"
      },
      "execution_count": 91,
      "outputs": [
        {
          "output_type": "stream",
          "name": "stdout",
          "text": [
            "Training set size: (1069, 6)\n",
            "Test set size: (268, 6)\n"
          ]
        }
      ]
    },
    {
      "cell_type": "markdown",
      "source": [
        "What is `random_state`?\n",
        "\n",
        "`random_state` sets the seed for random number generation while splitting the data.  \n",
        "It ensures that the train-test split is always the same, making the results reproducible every time the code is run.\n"
      ],
      "metadata": {
        "id": "WbM9Dq_MfIDZ"
      }
    },
    {
      "cell_type": "code",
      "source": [
        "# Initialize models\n",
        "lin_reg = LinearRegression()\n",
        "ridge_reg = Ridge(alpha=1.0)\n",
        "lasso_reg = Lasso(alpha=0.01)\n",
        "\n",
        "# Fit models\n",
        "lin_reg.fit(X_train_sel, y_train)\n",
        "ridge_reg.fit(X_train_sel, y_train)\n",
        "lasso_reg.fit(X_train_sel, y_train)\n",
        "\n",
        "# Predict on test data\n",
        "models = {\n",
        "    \"Linear Regression\": lin_reg,\n",
        "    \"Ridge Regression\": ridge_reg,\n",
        "    \"Lasso Regression\": lasso_reg\n",
        "}\n",
        "\n",
        "#Evaluate each model\n",
        "for name, model in models.items():\n",
        "    y_pred = model.predict(X_test_sel)\n",
        "    mse = mean_squared_error(y_test, y_pred)\n",
        "    r2 = r2_score(y_test, y_pred)\n",
        "    print(f\"{name}\")\n",
        "    print(f\"Mean Squared Error: {mse:.2f}\")\n",
        "    print(f\"R² Score: {r2:.4f}\")"
      ],
      "metadata": {
        "colab": {
          "base_uri": "https://localhost:8080/"
        },
        "id": "gfzXgbmFdx_o",
        "outputId": "9656573e-51d7-4bda-e6a5-bb64a211eb68"
      },
      "execution_count": 92,
      "outputs": [
        {
          "output_type": "stream",
          "name": "stdout",
          "text": [
            "Linear Regression\n",
            "Mean Squared Error: 35493102.61\n",
            "R² Score: 0.8068\n",
            "Ridge Regression\n",
            "Mean Squared Error: 35673339.97\n",
            "R² Score: 0.8059\n",
            "Lasso Regression\n",
            "Mean Squared Error: 35493213.35\n",
            "R² Score: 0.8068\n"
          ]
        }
      ]
    },
    {
      "cell_type": "markdown",
      "source": [
        "we are working on a regression problem, because our target (charges) is a continuous numerical value (like 12,000, 34,000, etc).so,\n",
        "Use Linear, Ridge, Lasso For predicting numbers.\n",
        "Do not use Logistic Regression. It’s for classification problems (yes/no, male/female, 0/1)\n",
        "\n",
        "ROC-AUC is only for classification problems. Its not needed for predicting charges.ROC-AUC measures how well a model distinguishes between classes (like spam vs not spam)."
      ],
      "metadata": {
        "id": "UGE_WIcdgxbq"
      }
    },
    {
      "cell_type": "code",
      "source": [
        "rf_model = RandomForestRegressor(random_state=42)\n",
        "rf_model.fit(X_train_sel, y_train)\n",
        "y_pred = rf_model.predict(X_test_sel)\n",
        "\n",
        "# Evaluation\n",
        "mse = mean_squared_error(y_test, y_pred)\n",
        "r2 = r2_score(y_test, y_pred)\n",
        "\n",
        "print(\"Random Forest Regressor\")\n",
        "print(f\"Mean Squared Error: {mse:.2f}\")\n",
        "print(f\"R² Score: {r2:.4f}\")"
      ],
      "metadata": {
        "colab": {
          "base_uri": "https://localhost:8080/"
        },
        "id": "4zmLWlZMn5SF",
        "outputId": "4c441f8f-adeb-40ef-cac3-d3c1197f6174"
      },
      "execution_count": 93,
      "outputs": [
        {
          "output_type": "stream",
          "name": "stdout",
          "text": [
            "Random Forest Regressor\n",
            "Mean Squared Error: 21525806.98\n",
            "R² Score: 0.8829\n"
          ]
        }
      ]
    },
    {
      "cell_type": "markdown",
      "source": [
        "here we can see, the random forest model gives the best and highest R² value (0.889) for this particular data usage of Label Encoder worked best as it improved R² better than one hot encoder."
      ],
      "metadata": {
        "id": "gmwJI0Bnv5pQ"
      }
    }
  ]
}
